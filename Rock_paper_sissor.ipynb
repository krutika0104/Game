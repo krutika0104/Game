{
  "nbformat": 4,
  "nbformat_minor": 0,
  "metadata": {
    "colab": {
      "provenance": []
    },
    "kernelspec": {
      "name": "python3",
      "display_name": "Python 3"
    },
    "language_info": {
      "name": "python"
    }
  },
  "cells": [
    {
      "cell_type": "code",
      "execution_count": 1,
      "metadata": {
        "colab": {
          "base_uri": "https://localhost:8080/"
        },
        "id": "yL3faKitWy6Z",
        "outputId": "8c7f5d81-699d-4ab0-8238-9d42f68823b6"
      },
      "outputs": [
        {
          "output_type": "stream",
          "name": "stdout",
          "text": [
            "Type Rock/Paper/Scissors or Q to quit: rock\n",
            "Computer picked paper.\n",
            "You lost!\n",
            "Type Rock/Paper/Scissors or Q to quit: q\n",
            "You won 0 times.\n",
            "The computer won 1 times.\n",
            "Goodbye!\n"
          ]
        }
      ],
      "source": [
        "import random\n",
        "\n",
        "user_wins = 0\n",
        "computer_wins = 0\n",
        "\n",
        "options = [\"rock\", \"paper\", \"scissors\"]\n",
        "\n",
        "while True:\n",
        "    user_input = input(\"Type Rock/Paper/Scissors or Q to quit: \").lower()\n",
        "    if user_input == \"q\":\n",
        "        break\n",
        "\n",
        "    if user_input not in options:\n",
        "        continue\n",
        "\n",
        "    random_number = random.randint(0, 2)\n",
        "    # rock: 0, paper: 1, scissors: 2\n",
        "    computer_pick = options[random_number]\n",
        "    print(\"Computer picked\", computer_pick + \".\")\n",
        "\n",
        "    if user_input == \"rock\" and computer_pick == \"scissors\":\n",
        "        print(\"You won!\")\n",
        "        user_wins += 1\n",
        "\n",
        "    elif user_input == \"paper\" and computer_pick == \"rock\":\n",
        "        print(\"You won!\")\n",
        "        user_wins += 1\n",
        "\n",
        "    elif user_input == \"scissors\" and computer_pick == \"paper\":\n",
        "        print(\"You won!\")\n",
        "        user_wins += 1\n",
        "\n",
        "    else:\n",
        "        print(\"You lost!\")\n",
        "        computer_wins += 1\n",
        "\n",
        "print(\"You won\", user_wins, \"times.\")\n",
        "print(\"The computer won\", computer_wins, \"times.\")\n",
        "print(\"Goodbye!\")"
      ]
    }
  ]
}