{
 "cells": [
  {
   "cell_type": "code",
   "execution_count": 1,
   "id": "4a865134",
   "metadata": {},
   "outputs": [
    {
     "name": "stdout",
     "output_type": "stream",
     "text": [
      "Enter Your Number:98\n",
      "Computer number 86\n",
      "Your guess number is too high \n"
     ]
    }
   ],
   "source": [
    "import random\n",
    "Cnum=random.randrange(1,101)\n",
    "user_input= int(input(\"Enter Your Number:\"))\n",
    "\n",
    "if user_input < 101:\n",
    "    if user_input >Cnum:\n",
    "        print(\"Computer number\",Cnum)\n",
    "        print(\"Your guess number is too high \")\n",
    "    elif Cnum> user_input:\n",
    "        print(\"Your guess number is too low\")\n",
    "    else:\n",
    "        print(\"Your guess number is too equal\")\n",
    "else:\n",
    "    print(\"Invalid Number\")\n",
    "        "
   ]
  },
  {
   "cell_type": "code",
   "execution_count": null,
   "id": "85471797",
   "metadata": {},
   "outputs": [],
   "source": []
  }
 ],
 "metadata": {
  "kernelspec": {
   "display_name": "Python 3 (ipykernel)",
   "language": "python",
   "name": "python3"
  },
  "language_info": {
   "codemirror_mode": {
    "name": "ipython",
    "version": 3
   },
   "file_extension": ".py",
   "mimetype": "text/x-python",
   "name": "python",
   "nbconvert_exporter": "python",
   "pygments_lexer": "ipython3",
   "version": "3.9.7"
  }
 },
 "nbformat": 4,
 "nbformat_minor": 5
}
